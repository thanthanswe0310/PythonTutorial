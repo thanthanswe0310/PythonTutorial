{
 "cells": [
  {
   "cell_type": "code",
   "execution_count": null,
   "metadata": {},
   "outputs": [],
   "source": [
    "### Let's Code a Basic"
   ]
  },
  {
   "cell_type": "code",
   "execution_count": null,
   "metadata": {},
   "outputs": [],
   "source": [
    "input =[2.0,4.0,7.0]"
   ]
  },
  {
   "cell_type": "code",
   "execution_count": null,
   "metadata": {},
   "outputs": [],
   "source": [
    "weights = [0.3,0.5,-0.2]"
   ]
  },
  {
   "cell_type": "code",
   "execution_count": null,
   "metadata": {},
   "outputs": [],
   "source": [
    "bias =2"
   ]
  },
  {
   "cell_type": "code",
   "execution_count": null,
   "metadata": {},
   "outputs": [],
   "source": [
    "output = input[0]*weights[0] + input[1]*weights[1]+input[2]*weights[2] + bias\n"
   ]
  },
  {
   "cell_type": "code",
   "execution_count": null,
   "metadata": {},
   "outputs": [],
   "source": [
    "print(output)"
   ]
  },
  {
   "cell_type": "code",
   "execution_count": null,
   "metadata": {},
   "outputs": [],
   "source": [
    "inputs = weights = list(range(1,11))\n",
    "\n",
    "print(inputs)\n",
    "\n",
    "print(weights)\n",
    "\n",
    "bias =10\n",
    "\n",
    "output =0\n",
    "\n",
    "for i in range(len(inputs)):\n",
    "    output +=inputs[i]*weights[i]\n",
    "output+=bias\n",
    "\n",
    "print(output)"
   ]
  },
  {
   "cell_type": "code",
   "execution_count": null,
   "metadata": {},
   "outputs": [],
   "source": [
    "## With Numpy\n",
    "\n",
    "import numpy as np\n",
    "\n",
    "output = np.dot(inputs,weights) + bias\n",
    "\n",
    "print(output)"
   ]
  },
  {
   "cell_type": "code",
   "execution_count": null,
   "metadata": {},
   "outputs": [],
   "source": [
    "## ReLu Activation\n",
    "\n",
    "# y =max(0,x)\n",
    "\n",
    "Y = max(0,output)\n",
    "\n",
    "print(Y)"
   ]
  },
  {
   "cell_type": "code",
   "execution_count": null,
   "metadata": {},
   "outputs": [],
   "source": [
    "inputs =[-1,-2,-3]\n",
    "\n",
    "weights =[0.2,0.3,0.4]\n",
    "\n",
    "bias =-10\n",
    "\n",
    "output = inputs[0]*weights[0] + inputs[1]*weights[1]+inputs[2]*weights[2] +bias\n",
    "\n",
    "print(output)"
   ]
  },
  {
   "cell_type": "code",
   "execution_count": null,
   "metadata": {},
   "outputs": [],
   "source": [
    "Y = max(0,output)\n",
    "print(Y)"
   ]
  },
  {
   "cell_type": "code",
   "execution_count": null,
   "metadata": {},
   "outputs": [],
   "source": [
    "# Using Numpy\n",
    "\n",
    "import numpy as np\n",
    "\n",
    "inputs = np.random.randint(0,10,3)\n",
    "\n",
    "weights = np.random.random(3)\n",
    "\n",
    "bias =10\n",
    "\n",
    "\n",
    "output = np.dot(inputs, weights)+bias\n",
    "print(output)"
   ]
  },
  {
   "cell_type": "code",
   "execution_count": null,
   "metadata": {},
   "outputs": [],
   "source": [
    "# Coding a single layer\n",
    "\n",
    "inputs = [1,2,3]\n",
    "\n",
    "weights = np.array([[0.1,0.2,0.3],[0.11,0.22,0.23],[0.31,0.32,0.34],[0.4,0.54,0.65]])\n",
    "\n",
    "output1 = inputs[0]*weights[0][0]+inputs[1]*weights[0][1]+inputs[2]*weights[0][2]\n",
    "output2 = inputs[0]*weights[1][0]+inputs[1]*weights[1][1]+inputs[2]*weights[1][2]\n",
    "output3 = inputs[0]*weights[2][0]+inputs[1]*weights[2][1]+inputs[2]*weights[2][2]\n",
    "output4 = inputs[0]*weights[3][0]+inputs[1]*weights[3][1]+inputs[2]*weights[3][2]\n",
    "\n",
    "print(output1,output2,output3,output4)"
   ]
  },
  {
   "cell_type": "code",
   "execution_count": null,
   "metadata": {},
   "outputs": [],
   "source": [
    "print(type(output1))"
   ]
  },
  {
   "cell_type": "code",
   "execution_count": null,
   "metadata": {},
   "outputs": [],
   "source": [
    "# With Numpy arrays\n",
    "\n",
    "inputs = np.random.randint(0,10,3)\n",
    "\n",
    "weights = np.random.random((4,3)) # 4 nuerons, 3 weights for each neuron\n",
    "\n",
    "biases = np.random.randint(0,5,4)\n",
    "\n",
    "print(inputs.shape,weights.shape)\n",
    "\n",
    "output = np.dot(inputs,weights.T)+ biases  # Column of the first matrix\n",
    "\n",
    "print(output)"
   ]
  },
  {
   "cell_type": "code",
   "execution_count": null,
   "metadata": {},
   "outputs": [],
   "source": [
    "# With Numpy arrays\n",
    "\n",
    "inputs = np.random.randint(0,10,3)\n",
    "\n",
    "weights1 = np.random.random((4,3)) # 4 nuerons, 3 weights for each neuron\n",
    "biases1 = np.random.randint(0,5,4)\n",
    "output1 = np.dot(inputs,weights1.T)+ biases1  # Column of the first matrix\n",
    "\n",
    "print(output1)\n",
    "weights2 = np.random.random((3,4))\n",
    "biases2 = np.random.randint(0,5,3)\n",
    "\n",
    "output2 = np.dot(output1,weights2.T)+biases2\n",
    "\n",
    "print(output2)"
   ]
  },
  {
   "cell_type": "code",
   "execution_count": null,
   "metadata": {},
   "outputs": [],
   "source": [
    "# More Structured way using python class\n",
    "\n",
    "class Layer:\n",
    "    def __init__(self,n_inputs,n_neurons):\n",
    "        self.weights = np.random.random((n_neurons,n_inputs))\n",
    "        self.biases = np.random.randint(0,10,n_neurons)\n",
    "    def forward(self,inputs):\n",
    "        self.output = np.dot(inputs,self.weights.T)+self.biases\n",
    "\n",
    "inputs =[1,2,3]\n",
    "layer1 = Layer(3,4)\n",
    "\n",
    "layer1.forward(inputs)\n",
    "print(layer1.output)\n",
    "\n",
    "\n",
    "layer2 =Layer(4,3)\n",
    "layer2.forward(layer1.output)\n",
    "print(layer2.output)\n",
    "\n",
    "\n",
    "layer3 = Layer(3,2)\n",
    "layer3.forward(layer2.output)\n",
    "print(layer3.output)"
   ]
  },
  {
   "cell_type": "code",
   "execution_count": null,
   "metadata": {},
   "outputs": [],
   "source": [
    "# For batch of inputs\n",
    "\n",
    "inputs = np.random.random((10,3))\n",
    "\n",
    "print(inputs.shape)"
   ]
  },
  {
   "cell_type": "code",
   "execution_count": null,
   "metadata": {},
   "outputs": [],
   "source": [
    "weights = np.random.random((4,3))\n",
    "biases  = [2,3,4,5]\n",
    "\n",
    "output = np.dot(inputs,weights.T)+biases\n",
    "print(output.shape)"
   ]
  },
  {
   "cell_type": "code",
   "execution_count": null,
   "metadata": {},
   "outputs": [],
   "source": [
    "### Properties\n",
    "### 1. Non-linearity\n",
    "### 2. Differentiable\n",
    "### 3. Range \n",
    "### 4. Monotonic\n",
    "### 5. Computationally efficient\n"
   ]
  },
  {
   "cell_type": "code",
   "execution_count": null,
   "metadata": {},
   "outputs": [],
   "source": [
    "import numpy as np\n",
    "\n",
    "def sig(x):\n",
    "    s = (1/(1+np.exp(-x)))  # Sigmoid function\n",
    "    ds = s* (1-s)\n",
    "\n",
    "    return s,ds "
   ]
  },
  {
   "cell_type": "code",
   "execution_count": null,
   "metadata": {},
   "outputs": [],
   "source": [
    "# import matplotlib.pyplot as plt\n",
    "# import numpy as np"
   ]
  },
  {
   "cell_type": "code",
   "execution_count": null,
   "metadata": {},
   "outputs": [],
   "source": [
    "# x = np.arange(-6,6,0.01)\n",
    "# #Plotting\n",
    "\n",
    "# fig, ax = plt.subplots(figsize = (9,5))\n",
    "# ax.spines['left'].set_position('center')\n",
    "# ax.spines['right'].set_color('none')\n",
    "# ax.spines['top'].set_color('none')\n",
    "# ax.xaxis.set_ticks_position('bottom')\n",
    "# ax.yaxis.set_ticks_position('left')\n",
    "# ax.plot(x,sig(x)[0],color=\"#307EC7\",linewidth =3,label =\"sigmoid\")\n",
    "# ax.plot(x,sig(x)[10],color=\"#9621e2\",linewidth =3, label =\"derivative\")\n",
    "# ax.legend(loc=\"upper left\", frameon =False)\n",
    "# fig.show()"
   ]
  },
  {
   "cell_type": "code",
   "execution_count": 59,
   "metadata": {},
   "outputs": [],
   "source": [
    "## Switch Activation\n",
    "\n",
    "\n",
    "import numpy as np\n",
    "import matplotlib.pyplot as plt\n",
    "\n",
    "def swish(x):\n",
    "    s = x* (1/(1+np.exp(-x)))\n",
    "    return s\n",
    "\n",
    "\n",
    "\n",
    "def mish(x):\n",
    "    m = x* np.tanh(np.log(1+np.exp(x)))\n",
    "    return m"
   ]
  },
  {
   "cell_type": "code",
   "execution_count": 62,
   "metadata": {},
   "outputs": [
    {
     "name": "stderr",
     "output_type": "stream",
     "text": [
      "/tmp/ipykernel_5477/2568475354.py:10: UserWarning: FigureCanvasAgg is non-interactive, and thus cannot be shown\n",
      "  fig.show()\n"
     ]
    },
    {
     "data": {
      "image/png": "[encoded data removed]",
      "text/plain": [
       "<Figure size 900x500 with 1 Axes>"
      ]
     },
     "metadata": {},
     "output_type": "display_data"
    }
   ],
   "source": [
    "z = np.arange(-4,4,0.01)\n",
    "\n",
    "fig,ax = plt.subplots(figsize=(9,5))\n",
    "ax.xaxis.set_ticks_position('bottom')\n",
    "ax.yaxis.set_ticks_position('left')\n",
    "\n",
    "ax.plot(z, swish(z), color =\"#307EC7\",linewidth =3, label=\"swish\")\n",
    "ax.plot(z, mish(z), color =\"#9621E2\",linewidth =3, label=\"mish\")\n",
    "ax.legend(loc=\"upper left\" , frameon = False)\n",
    "fig.show()"
   ]
  },
  {
   "cell_type": "code",
   "execution_count": null,
   "metadata": {},
   "outputs": [],
   "source": []
  }
 ],
 "metadata": {
  "kernelspec": {
   "display_name": "HandDetect",
   "language": "python",
   "name": "python3"
  },
  "language_info": {
   "codemirror_mode": {
    "name": "ipython",
    "version": 3
   },
   "file_extension": ".py",
   "mimetype": "text/x-python",
   "name": "python",
   "nbconvert_exporter": "python",
   "pygments_lexer": "ipython3",
   "version": "3.13.0"
  }
 },
 "nbformat": 4,
 "nbformat_minor": 2
}
